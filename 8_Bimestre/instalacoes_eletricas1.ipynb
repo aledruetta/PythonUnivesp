{
 "cells": [
  {
   "cell_type": "code",
   "execution_count": 1,
   "metadata": {},
   "outputs": [],
   "source": [
    "from math import pi\n",
    "import numpy as np\n",
    "import matplotlib.pyplot as plt"
   ]
  },
  {
   "cell_type": "markdown",
   "metadata": {},
   "source": [
    "Essa classe define os métodos e atributos para trabalhar com valores e representações de um circuito simples AC."
   ]
  },
  {
   "cell_type": "code",
   "execution_count": 2,
   "metadata": {},
   "outputs": [],
   "source": [
    "class AC:\n",
    "    def __init__(self, amp, omg, fase):\n",
    "        self.amplitude = amp\n",
    "        self.omega = omg\n",
    "        self.fase = fase\n",
    "    \n",
    "    def rms(self):\n",
    "        return self.amplitude / np.sqrt(2)\n",
    "    \n",
    "    def freq(self):\n",
    "        return self.omega / (2*pi)\n",
    "    \n",
    "    def fasorial(self):\n",
    "        return f'{self.rms():.2f}<{self.fase}°'\n",
    "    \n",
    "    def graf_func_onda(self):\n",
    "        periodo = 1 / self.freq()\n",
    "        t = np.linspace(0, 3*periodo, 100)\n",
    "        f = self.amplitude * np.cos(self.omega * t + self.fase)\n",
    "        \n",
    "        fig, ax = plt.subplots()\n",
    "        ax.grid()\n",
    "        ax.axhline(y=0, color='k', alpha=.5)\n",
    "\n",
    "        ax.plot(t, f)\n",
    "        ax.plot(t, np.repeat(self.rms(), 100))\n",
    "        plt.show()\n",
    "    \n",
    "    def graf_fasor(self):\n",
    "        x = self.rms() * np.cos(np.radians(self.fase))\n",
    "        y = self.rms() * np.sin(np.radians(self.fase))\n",
    "\n",
    "        fig, ax = plt.subplots()\n",
    "        plt.grid()\n",
    "        \n",
    "        xlim = np.abs(x*1.25) if abs(x) > 0 else 1\n",
    "        ylim = np.abs(y*1.25) if abs(y) > 0 else 1\n",
    "        plt.xlim(-xlim, xlim)\n",
    "        plt.ylim(-ylim, ylim)\n",
    "        \n",
    "        plt.quiver(0, 0, x, y, angles='xy', scale_units='xy', scale=1., color='red')\n",
    "        \n",
    "        ax.axhline(y=0, color='gray', alpha=.35)\n",
    "        ax.axvline(x=0, color='gray', alpha=.35)\n",
    "        plt.show()\n",
    "    \n",
    "    def calc_imped(self, valor, tipo):\n",
    "        if tipo == 'L':\n",
    "            return complex(0, self.omega * valor)\n",
    "        elif tipo == 'C':\n",
    "            return complex(0, - 1/(self.omega * valor))\n",
    "        elif tipo == 'R':\n",
    "            return valor\n",
    "        else:\n",
    "            raise Exception('Os tipos admitidos são: R, L e C')\n",
    "    \n",
    "    def __str__(self):\n",
    "        return f'{self.amplitude}cos({self.omega}t+{self.fase}°)V'"
   ]
  },
  {
   "cell_type": "markdown",
   "metadata": {},
   "source": [
    "### Sabe-se que o circuito em corrente alternada, apresentado na figura a seguir, é alimentado com frequência de 60Hz."
   ]
  },
  {
   "cell_type": "markdown",
   "metadata": {},
   "source": [
    "<img src=\"Sem1-FEG002_EA_Q0.png\">"
   ]
  },
  {
   "cell_type": "markdown",
   "metadata": {},
   "source": [
    "### Função de onda"
   ]
  },
  {
   "cell_type": "markdown",
   "metadata": {},
   "source": [
    "O objeto *ac* recebe os parámetros: amplitude, ômega e fase. Você pode alterar esses valores e usar a opção \"Restart kernel and Run All Cells\" do menu \"Run\" para observar as mudanças."
   ]
  },
  {
   "cell_type": "code",
   "execution_count": 3,
   "metadata": {},
   "outputs": [],
   "source": [
    "ac = AC(141.42, 377, 0)"
   ]
  },
  {
   "cell_type": "code",
   "execution_count": 4,
   "metadata": {},
   "outputs": [
    {
     "name": "stdout",
     "output_type": "stream",
     "text": [
      "141.42cos(377t+0°)V\n"
     ]
    },
    {
     "data": {
      "image/png": "[encoded data removed]",
      "text/plain": [
       "<Figure size 432x288 with 1 Axes>"
      ]
     },
     "metadata": {
      "needs_background": "light"
     },
     "output_type": "display_data"
    }
   ],
   "source": [
    "print(f'{ac}')\n",
    "ac.graf_func_onda()"
   ]
  },
  {
   "cell_type": "markdown",
   "metadata": {},
   "source": [
    "### Valor eficaz e frequência"
   ]
  },
  {
   "cell_type": "code",
   "execution_count": 5,
   "metadata": {},
   "outputs": [
    {
     "name": "stdout",
     "output_type": "stream",
     "text": [
      "valor eficaz: 100.00Vrms\n",
      "frequência:   60.00Hz\n"
     ]
    }
   ],
   "source": [
    "rms = ac.rms()\n",
    "freq = ac.freq()\n",
    "\n",
    "print(f'valor eficaz: {rms:.2f}Vrms')\n",
    "print(f'frequência:   {freq:.2f}Hz')"
   ]
  },
  {
   "cell_type": "markdown",
   "metadata": {},
   "source": [
    "### Representação fasorial"
   ]
  },
  {
   "cell_type": "code",
   "execution_count": 6,
   "metadata": {},
   "outputs": [
    {
     "name": "stdout",
     "output_type": "stream",
     "text": [
      "100.00<0°\n"
     ]
    }
   ],
   "source": [
    "fasor = ac.fasorial()\n",
    "print(fasor)"
   ]
  },
  {
   "cell_type": "code",
   "execution_count": 7,
   "metadata": {},
   "outputs": [
    {
     "data": {
      "image/png": "[encoded data removed]",
      "text/plain": [
       "<Figure size 432x288 with 1 Axes>"
      ]
     },
     "metadata": {
      "needs_background": "light"
     },
     "output_type": "display_data"
    }
   ],
   "source": [
    "ac.graf_fasor()"
   ]
  },
  {
   "cell_type": "markdown",
   "metadata": {},
   "source": [
    "### Cálculo das impedâncias"
   ]
  },
  {
   "cell_type": "markdown",
   "metadata": {},
   "source": [
    "Aqui, você também pode mudar os valores de resistência, indutancia e capacitancia, para obter os cálculos das impedâncias segundo a frequência do circuito AC."
   ]
  },
  {
   "cell_type": "code",
   "execution_count": 8,
   "metadata": {},
   "outputs": [
    {
     "name": "stdout",
     "output_type": "stream",
     "text": [
      "resistor:  5 Ω\n",
      "indutor:   0.00+40.23j Ω\n",
      "capacitor: 0.00-30.01j Ω\n"
     ]
    }
   ],
   "source": [
    "resistencia = 5           # 5 ohms\n",
    "indutancia = 106.7e-3     # 106.7 mH\n",
    "capacitancia = 88.4e-6    # 88.4 uF\n",
    "\n",
    "i_resistor = ac.calc_imped(resistencia, 'R')\n",
    "i_indutor = ac.calc_imped(indutancia, 'L')\n",
    "i_capacitor = ac.calc_imped(capacitancia, 'C')\n",
    "\n",
    "print(f\"resistor:  {i_resistor} \\u03A9\")\n",
    "print(f\"indutor:   {i_indutor:.2f} \\u03A9\")\n",
    "print(f\"capacitor: {i_capacitor:.2f} \\u03A9\")"
   ]
  }
 ],
 "metadata": {
  "kernelspec": {
   "display_name": "Python 3",
   "language": "python",
   "name": "python3"
  },
  "language_info": {
   "codemirror_mode": {
    "name": "ipython",
    "version": 3
   },
   "file_extension": ".py",
   "mimetype": "text/x-python",
   "name": "python",
   "nbconvert_exporter": "python",
   "pygments_lexer": "ipython3",
   "version": "3.7.3"
  }
 },
 "nbformat": 4,
 "nbformat_minor": 2
}

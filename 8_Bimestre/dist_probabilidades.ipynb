{
 "cells": [
  {
   "cell_type": "markdown",
   "metadata": {},
   "source": [
    "Estatística - Semana 2 - Exercícios de apoio:\n",
    "\n",
    "Questão 2 - Um fabricante produz equipamentos eletrônicos que apresentam falhas em 20% das vezes. Uma empresa adquiriu 5 destes equipamentos, selecionados aleatoriamente de um lote suficientemente grande para que se possa aplicar a distribuição binomial. Qual a distribuição de probabilidade esperada para a variável aleatória “número de equipamentos com defeito”?"
   ]
  },
  {
   "cell_type": "code",
   "execution_count": 1,
   "metadata": {},
   "outputs": [],
   "source": [
    "import matplotlib.pyplot as plt"
   ]
  },
  {
   "cell_type": "markdown",
   "metadata": {},
   "source": [
    "Função para o cálculo do fatorial"
   ]
  },
  {
   "cell_type": "code",
   "execution_count": 2,
   "metadata": {},
   "outputs": [],
   "source": [
    "def fat(n):\n",
    "    f = 1\n",
    "    i = 2\n",
    "    while i <= n:\n",
    "        f = f*i\n",
    "        i = i + 1\n",
    "\n",
    "    return f"
   ]
  },
  {
   "cell_type": "markdown",
   "metadata": {},
   "source": [
    "Script para o cálculo da distribuição de probabilidades"
   ]
  },
  {
   "cell_type": "code",
   "execution_count": 3,
   "metadata": {},
   "outputs": [
    {
     "name": "stdout",
     "output_type": "stream",
     "text": [
      "x = 0 -> 0.32768\n",
      "x = 1 -> 0.4096\n",
      "x = 2 -> 0.2048\n",
      "x = 3 -> 0.0512\n",
      "x = 4 -> 0.0064\n",
      "x = 5 -> 0.00032\n"
     ]
    }
   ],
   "source": [
    "px = []\n",
    "\n",
    "for k in range(6):\n",
    "    n = 5\n",
    "    p = (fat(n) / (fat(k) * fat(n-k))) * 0.2**k * 0.8**(n-k)\n",
    "    px.append(p)\n",
    "    print(f'x = {k} -> {p:.5}')    "
   ]
  },
  {
   "cell_type": "markdown",
   "metadata": {},
   "source": [
    "Visualização da distribuição de probabilidades usando a biblioteca matplotlib.pyplot"
   ]
  },
  {
   "cell_type": "code",
   "execution_count": 4,
   "metadata": {},
   "outputs": [
    {
     "data": {
      "image/png": "[encoded data removed]",
      "text/plain": [
       "<Figure size 432x288 with 1 Axes>"
      ]
     },
     "metadata": {
      "needs_background": "light"
     },
     "output_type": "display_data"
    }
   ],
   "source": [
    "plt.bar(range(6), px)\n",
    "plt.show()"
   ]
  }
 ],
 "metadata": {
  "kernelspec": {
   "display_name": "Python 3",
   "language": "python",
   "name": "python3"
  },
  "language_info": {
   "codemirror_mode": {
    "name": "ipython",
    "version": 3
   },
   "file_extension": ".py",
   "mimetype": "text/x-python",
   "name": "python",
   "nbconvert_exporter": "python",
   "pygments_lexer": "ipython3",
   "version": "3.7.3"
  }
 },
 "nbformat": 4,
 "nbformat_minor": 2
}
